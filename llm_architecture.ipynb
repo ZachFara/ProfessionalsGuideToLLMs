{
 "cells": [
  {
   "cell_type": "markdown",
   "metadata": {},
   "source": [
    "This notebook is meant as a demonstration to show how exactly LLMs and Transformers work and why they are so effective. We will start off assuming that you have some basic knowledge about how neural networks work in PyTorch. Below we will create the model architecture using some prebuilt layers from the PyTorch package. After that we will demonstrate how exactly those layers are constructed. Then we will train the model and demonstrate that it learned something.\n",
    "\n",
    "For the below model instead of using words we will just use numbers to try to predict the next number in a sequence of numbers. Under the hood this is what LLMs do as they map each word to a series of numbers because the models can only understand numbers and not words."
   ]
  },
  {
   "cell_type": "code",
   "execution_count": 4,
   "metadata": {},
   "outputs": [
    {
     "data": {
      "text/plain": [
       "SmallLLM(\n",
       "  (embedding): Embedding(10, 32)\n",
       "  (transformer): Transformer(\n",
       "    (encoder): TransformerEncoder(\n",
       "      (layers): ModuleList(\n",
       "        (0-1): 2 x TransformerEncoderLayer(\n",
       "          (self_attn): MultiheadAttention(\n",
       "            (out_proj): NonDynamicallyQuantizableLinear(in_features=32, out_features=32, bias=True)\n",
       "          )\n",
       "          (linear1): Linear(in_features=32, out_features=2048, bias=True)\n",
       "          (dropout): Dropout(p=0.1, inplace=False)\n",
       "          (linear2): Linear(in_features=2048, out_features=32, bias=True)\n",
       "          (norm1): LayerNorm((32,), eps=1e-05, elementwise_affine=True)\n",
       "          (norm2): LayerNorm((32,), eps=1e-05, elementwise_affine=True)\n",
       "          (dropout1): Dropout(p=0.1, inplace=False)\n",
       "          (dropout2): Dropout(p=0.1, inplace=False)\n",
       "        )\n",
       "      )\n",
       "      (norm): LayerNorm((32,), eps=1e-05, elementwise_affine=True)\n",
       "    )\n",
       "    (decoder): TransformerDecoder(\n",
       "      (layers): ModuleList(\n",
       "        (0-5): 6 x TransformerDecoderLayer(\n",
       "          (self_attn): MultiheadAttention(\n",
       "            (out_proj): NonDynamicallyQuantizableLinear(in_features=32, out_features=32, bias=True)\n",
       "          )\n",
       "          (multihead_attn): MultiheadAttention(\n",
       "            (out_proj): NonDynamicallyQuantizableLinear(in_features=32, out_features=32, bias=True)\n",
       "          )\n",
       "          (linear1): Linear(in_features=32, out_features=2048, bias=True)\n",
       "          (dropout): Dropout(p=0.1, inplace=False)\n",
       "          (linear2): Linear(in_features=2048, out_features=32, bias=True)\n",
       "          (norm1): LayerNorm((32,), eps=1e-05, elementwise_affine=True)\n",
       "          (norm2): LayerNorm((32,), eps=1e-05, elementwise_affine=True)\n",
       "          (norm3): LayerNorm((32,), eps=1e-05, elementwise_affine=True)\n",
       "          (dropout1): Dropout(p=0.1, inplace=False)\n",
       "          (dropout2): Dropout(p=0.1, inplace=False)\n",
       "          (dropout3): Dropout(p=0.1, inplace=False)\n",
       "        )\n",
       "      )\n",
       "      (norm): LayerNorm((32,), eps=1e-05, elementwise_affine=True)\n",
       "    )\n",
       "  )\n",
       "  (fc): Linear(in_features=32, out_features=10, bias=True)\n",
       ")"
      ]
     },
     "execution_count": 4,
     "metadata": {},
     "output_type": "execute_result"
    }
   ],
   "source": [
    "import torch\n",
    "import torch.nn as nn\n",
    "import torch.optim as optim\n",
    "\n",
    "class SmallLLM(nn.Module):\n",
    "    def __init__(self, vocab_size, embed_size, num_heads, num_layers):\n",
    "        super(SmallLLM, self).__init__()\n",
    "        \n",
    "        # This is an interesting embedding layer we will be digging deeper into later in this tutorial\n",
    "        self.embedding = nn.Embedding(vocab_size, embed_size)\n",
    "        \n",
    "        # This layer is also likely new and is the fundamental strength of the new series of LLMs coming out\n",
    "        # The transformer architecture beats the previously dominant RNNs and other NLP models\n",
    "        self.transformer = nn.Transformer(embed_size, num_heads, num_layers)\n",
    "        self.fc = nn.Linear(embed_size, vocab_size)\n",
    "        \n",
    "    def forward(self, x):\n",
    "        x = self.embedding(x)\n",
    "        x = self.transformer(x, x)\n",
    "        x = self.fc(x)\n",
    "        return x\n",
    "\n",
    "\n",
    "# Since we are working with 10 numbers (0-9) our vocab size will be 10\n",
    "vocab_size = 10  \n",
    "\n",
    "# You can treat these as hyper-parameters of our model\n",
    "embed_size = 32  \n",
    "num_heads = 2    \n",
    "num_layers = 2 \n",
    "\n",
    "# Initialize model, loss, and optimizer\n",
    "model = SmallLLM(vocab_size, embed_size, num_heads, num_layers)\n",
    "\n",
    "# We use CrossEntropyLoss because we are in essence looking to classify the next token in the series\n",
    "criterion = nn.CrossEntropyLoss()\n",
    "optimizer = optim.Adam(model.parameters(), lr=0.001)\n",
    "\n",
    "# Show the model architecture\n",
    "model"
   ]
  },
  {
   "cell_type": "markdown",
   "metadata": {},
   "source": [
    "Now let's dig into what both of those layers are really doing. First we can look into the embedding layer. Please note that the embdedding layer expects an integer input and if you are curious how we get from words -> integers as our model inputs then please look at the tokenization notebook.\n",
    "\n",
    "Below we define an embedding layer. Essentially this layer maps integeres (0-vocab_size) and produces a embedding size dimensional output, in this case 3. The idea here is that our model will be able to learn the relationship between different integers and a multi-dimensional continuous output which feeds into the transformer layer."
   ]
  },
  {
   "cell_type": "code",
   "execution_count": 7,
   "metadata": {},
   "outputs": [
    {
     "data": {
      "text/plain": [
       "tensor([[ 0.9070,  0.9123, -0.1542],\n",
       "        [-1.0586,  0.0818, -1.3950],\n",
       "        [-1.2679, -1.3518, -1.0793],\n",
       "        [-0.8483,  1.1451, -0.5357]], grad_fn=<EmbeddingBackward0>)"
      ]
     },
     "execution_count": 7,
     "metadata": {},
     "output_type": "execute_result"
    }
   ],
   "source": [
    "\n",
    "# Here we define an embedding layer with a vocab size of 5 and an dimensions of embeddings of 3\n",
    "embedding = nn.Embedding(5, 3)\n",
    "\n",
    "# This will be the input to our embedding layer, feel free to mess around with it\n",
    "input_indices = torch.LongTensor([1, 2, 4, 0])\n",
    "\n",
    "# Pass in our input vocab\n",
    "embedded = embedding(input_indices)\n",
    "\n",
    "# Display our result which is essentially random at this point\n",
    "embedded"
   ]
  },
  {
   "cell_type": "markdown",
   "metadata": {},
   "source": [
    "To summarize, the purpose of the embedding layer is to turn our vocabulary integers into a multidimensional continuous output. This helps us extract the maximum amount of information from the vocabulary inputs."
   ]
  },
  {
   "cell_type": "markdown",
   "metadata": {},
   "source": [
    "Now let's look into the transformer layer."
   ]
  },
  {
   "cell_type": "code",
   "execution_count": null,
   "metadata": {},
   "outputs": [],
   "source": []
  },
  {
   "cell_type": "markdown",
   "metadata": {},
   "source": [
    "Now let's put it all together and train our numerical sequence predictor model"
   ]
  },
  {
   "cell_type": "code",
   "execution_count": 9,
   "metadata": {},
   "outputs": [
    {
     "name": "stdout",
     "output_type": "stream",
     "text": [
      "Epoch [1/50], Loss: 0.0119\n",
      "Epoch [2/50], Loss: 0.0109\n",
      "Epoch [3/50], Loss: 0.0103\n",
      "Epoch [4/50], Loss: 0.0096\n",
      "Epoch [5/50], Loss: 0.0089\n",
      "Epoch [6/50], Loss: 0.0083\n",
      "Epoch [7/50], Loss: 0.0080\n",
      "Epoch [8/50], Loss: 0.0074\n",
      "Epoch [9/50], Loss: 0.0068\n",
      "Epoch [10/50], Loss: 0.0065\n",
      "Epoch [11/50], Loss: 0.0063\n",
      "Epoch [12/50], Loss: 0.0059\n",
      "Epoch [13/50], Loss: 0.0056\n",
      "Epoch [14/50], Loss: 0.0052\n",
      "Epoch [15/50], Loss: 0.0051\n",
      "Epoch [16/50], Loss: 0.0047\n",
      "Epoch [17/50], Loss: 0.0045\n",
      "Epoch [18/50], Loss: 0.0043\n",
      "Epoch [19/50], Loss: 0.0042\n",
      "Epoch [20/50], Loss: 0.0039\n",
      "Epoch [21/50], Loss: 0.0039\n",
      "Epoch [22/50], Loss: 0.0038\n",
      "Epoch [23/50], Loss: 0.0035\n",
      "Epoch [24/50], Loss: 0.0034\n",
      "Epoch [25/50], Loss: 0.0033\n",
      "Epoch [26/50], Loss: 0.0031\n",
      "Epoch [27/50], Loss: 0.0030\n",
      "Epoch [28/50], Loss: 0.0029\n",
      "Epoch [29/50], Loss: 0.0028\n",
      "Epoch [30/50], Loss: 0.0027\n",
      "Epoch [31/50], Loss: 0.0026\n",
      "Epoch [32/50], Loss: 0.0025\n",
      "Epoch [33/50], Loss: 0.0025\n",
      "Epoch [34/50], Loss: 0.0024\n",
      "Epoch [35/50], Loss: 0.0023\n",
      "Epoch [36/50], Loss: 0.0021\n",
      "Epoch [37/50], Loss: 0.0021\n",
      "Epoch [38/50], Loss: 0.0021\n",
      "Epoch [39/50], Loss: 0.0019\n",
      "Epoch [40/50], Loss: 0.0019\n",
      "Epoch [41/50], Loss: 0.0019\n",
      "Epoch [42/50], Loss: 0.0018\n",
      "Epoch [43/50], Loss: 0.0017\n",
      "Epoch [44/50], Loss: 0.0017\n",
      "Epoch [45/50], Loss: 0.0017\n",
      "Epoch [46/50], Loss: 0.0016\n",
      "Epoch [47/50], Loss: 0.0016\n",
      "Epoch [48/50], Loss: 0.0016\n",
      "Epoch [49/50], Loss: 0.0015\n",
      "Epoch [50/50], Loss: 0.0014\n"
     ]
    }
   ],
   "source": [
    "import numpy as np\n",
    "\n",
    "# Generate some dummy data\n",
    "# Sequences are arrays from 0 to 9 (our vocab)\n",
    "# For each sequence, the target is the sequence shifted by one position\n",
    "sequences = np.array([[i for i in range(10)] for _ in range(100)])\n",
    "targets = np.array([[i for i in range(1, 10)] + [0] for _ in range(100)])\n",
    "\n",
    "# Convert to PyTorch tensors\n",
    "sequences = torch.LongTensor(sequences)\n",
    "targets = torch.LongTensor(targets)\n",
    "\n",
    "# Create DataLoader\n",
    "from torch.utils.data import DataLoader, TensorDataset\n",
    "\n",
    "dataset = TensorDataset(sequences, targets)\n",
    "dataloader = DataLoader(dataset, batch_size=8, shuffle=True)\n",
    "\n",
    "# Training loop\n",
    "epochs = 50\n",
    "\n",
    "for epoch in range(epochs):\n",
    "    for batch_seq, batch_target in dataloader:\n",
    "        # Forward pass\n",
    "        outputs = model(batch_seq)\n",
    "        \n",
    "        # Reshape for loss calculation\n",
    "        outputs = outputs.view(-1, vocab_size)\n",
    "        batch_target = batch_target.view(-1)\n",
    "        \n",
    "        # Calculate loss\n",
    "        loss = criterion(outputs, batch_target)\n",
    "        \n",
    "        # Backward pass and optimization\n",
    "        optimizer.zero_grad()\n",
    "        loss.backward()\n",
    "        optimizer.step()\n",
    "\n",
    "    # Print loss every epoch\n",
    "    print(f\"Epoch [{epoch+1}/{epochs}], Loss: {loss.item():.4f}\")\n"
   ]
  },
  {
   "cell_type": "markdown",
   "metadata": {},
   "source": [
    "Now we can use our trained model to make some predictions"
   ]
  },
  {
   "cell_type": "code",
   "execution_count": 11,
   "metadata": {},
   "outputs": [
    {
     "data": {
      "text/plain": [
       "[0,\n",
       " 1,\n",
       " 2,\n",
       " 3,\n",
       " 4,\n",
       " 5,\n",
       " 6,\n",
       " 7,\n",
       " 8,\n",
       " 9,\n",
       " 7,\n",
       " 3,\n",
       " 7,\n",
       " 7,\n",
       " 8,\n",
       " 8,\n",
       " 9,\n",
       " 9,\n",
       " 9,\n",
       " 0,\n",
       " 0,\n",
       " 0,\n",
       " 1,\n",
       " 1,\n",
       " 1,\n",
       " 1,\n",
       " 1,\n",
       " 2,\n",
       " 2,\n",
       " 2]"
      ]
     },
     "execution_count": 11,
     "metadata": {},
     "output_type": "execute_result"
    }
   ],
   "source": [
    "# Fixing the generate_numbers function to have correct input dimensions\n",
    "def generate_numbers(model, start_sequence, length):\n",
    "    generated_sequence = start_sequence.copy()\n",
    "    \n",
    "    for _ in range(length):\n",
    "        input_sequence = torch.LongTensor([generated_sequence[-10:]]).transpose(0, 1)\n",
    "        output = model(input_sequence)\n",
    "        next_number = torch.argmax(output[0, -1]).item()\n",
    "        generated_sequence.append(next_number)\n",
    "    \n",
    "    return generated_sequence\n",
    "\n",
    "# Generate a sequence starting with [0, 1, 2, 3, 4, 5, 6, 7, 8, 9]\n",
    "generated_sequence = generate_numbers(model, [i for i in range(10)], 20)\n",
    "generated_sequence\n"
   ]
  },
  {
   "cell_type": "markdown",
   "metadata": {},
   "source": [
    "Now just as a short example we can switch from a numerical sequence predictor to a word based model and see what the results are. This example will encorporate a lot of subjects detailed in this notebook and in the tokenization notebook."
   ]
  },
  {
   "cell_type": "code",
   "execution_count": 54,
   "metadata": {},
   "outputs": [
    {
     "name": "stderr",
     "output_type": "stream",
     "text": [
      "[nltk_data] Downloading package state_union to\n",
      "[nltk_data]     /Users/zfara/nltk_data...\n",
      "[nltk_data]   Package state_union is already up-to-date!\n"
     ]
    },
    {
     "data": {
      "text/plain": [
       "(5.871013979905776, 7.673558832058651)"
      ]
     },
     "execution_count": 54,
     "metadata": {},
     "output_type": "execute_result"
    }
   ],
   "source": [
    "from torch.utils.data import DataLoader, TensorDataset\n",
    "import torch\n",
    "import torch.nn as nn\n",
    "import torch.optim as optim\n",
    "from sklearn.model_selection import train_test_split\n",
    "from collections import Counter\n",
    "from nltk.tokenize import word_tokenize\n",
    "\n",
    "\n",
    "import nltk\n",
    "nltk.download('state_union')\n",
    "from nltk.corpus import state_union\n",
    "\n",
    "# Fetch sentences from the reuters dataset, we use the state of the union dataset\n",
    "# Maybe our LLM will be speaking like a politician\n",
    "sentences = [' '.join(sent) for sent in state_union.sents()[:1000]]\n",
    "\n",
    "\n",
    "# Tokenize and build vocabulary\n",
    "tokenized_sentences = [word_tokenize(sentence.lower()) for sentence in sentences]\n",
    "flat_tokens = [token for sublist in tokenized_sentences for token in sublist]\n",
    "vocab_counter = Counter(flat_tokens)\n",
    "\n",
    "# Build the integer mapping between the words and their corresponding integer\n",
    "vocab = {word: i+2 for i, (word, _) in enumerate(vocab_counter.most_common())}\n",
    "vocab[\"<PAD>\"] = 0\n",
    "vocab[\"<UNK>\"] = 1\n",
    "vocab_size = len(vocab)\n",
    "\n",
    "index_to_word = {i: word for word, i in vocab.items()}\n",
    "\n",
    "# Encode with our new mapping between words and integers\n",
    "encoded_sentences = [[vocab.get(token, vocab[\"<UNK>\"]) for token in sentence] for sentence in tokenized_sentences]\n",
    "\n",
    "# Generate sequences and targets which we will later make into training and testing sets\n",
    "sequences = []\n",
    "targets = []\n",
    "sequence_length = 5 # Change this so that we will be able to make more complex sentences\n",
    "\n",
    "for sentence in encoded_sentences:\n",
    "    for i in range(len(sentence) - sequence_length + 1):\n",
    "        sequences.append(sentence[i:i + sequence_length - 1])\n",
    "        targets.append(sentence[i + 1:i + sequence_length])\n",
    "\n",
    "# Training and validation split\n",
    "split_idx = int(0.8 * len(sequences))\n",
    "train_sequences, val_sequences = sequences[:split_idx], sequences[split_idx:]\n",
    "train_targets, val_targets = targets[:split_idx], targets[split_idx:]\n",
    "\n",
    "# Convert to PyTorch tensors which we will make dataloaders and then use in our training loop\n",
    "train_sequences = torch.LongTensor(train_sequences)\n",
    "train_targets = torch.LongTensor(train_targets)\n",
    "val_sequences = torch.LongTensor(val_sequences)\n",
    "val_targets = torch.LongTensor(val_targets)\n",
    "\n",
    "# DataLoader\n",
    "train_dataset = TensorDataset(train_sequences, train_targets)\n",
    "train_dataloader = DataLoader(train_dataset, batch_size=4, shuffle=True)\n",
    "\n",
    "val_dataset = TensorDataset(val_sequences, val_targets)\n",
    "val_dataloader = DataLoader(val_dataset, batch_size=4, shuffle=False)\n",
    "\n",
    "# Initialize model, criterion and the optimzer\n",
    "model = SmallLLM(vocab_size, embed_size, num_heads, num_layers)\n",
    "criterion = nn.CrossEntropyLoss()\n",
    "optimizer = optim.Adam(model.parameters(), lr=0.001)\n",
    "\n",
    "# Train\n",
    "epochs = 25  # This will determine how long the model trains for\n",
    "train_losses = []\n",
    "val_losses = []\n",
    "\n",
    "for epoch in range(epochs):\n",
    "    model.train()\n",
    "    train_loss = 0\n",
    "    for batch_seq, batch_target in train_dataloader:\n",
    "        outputs = model(batch_seq)\n",
    "        outputs = outputs.view(-1, vocab_size)\n",
    "        batch_target = batch_target.view(-1)\n",
    "        loss = criterion(outputs, batch_target)\n",
    "        optimizer.zero_grad()\n",
    "        loss.backward()\n",
    "        optimizer.step()\n",
    "        train_loss += loss.item()\n",
    "    \n",
    "    train_loss /= len(train_dataloader)\n",
    "    train_losses.append(train_loss)\n",
    "\n",
    "    model.eval()\n",
    "    val_loss = 0\n",
    "    with torch.no_grad():\n",
    "        for batch_seq, batch_target in val_dataloader:\n",
    "            outputs = model(batch_seq)\n",
    "            outputs = outputs.view(-1, vocab_size)\n",
    "            batch_target = batch_target.view(-1)\n",
    "            loss = criterion(outputs, batch_target)\n",
    "            val_loss += loss.item()\n",
    "    \n",
    "    val_loss /= len(val_dataloader)\n",
    "    val_losses.append(val_loss)\n",
    "\n",
    "final_train_loss = train_losses[-1]\n",
    "final_val_loss = val_losses[-1]\n",
    "\n",
    "final_train_loss, final_val_loss # Print our final metrics"
   ]
  },
  {
   "cell_type": "markdown",
   "metadata": {},
   "source": [
    "If you look below we didn't really improve on our validation set. This is probably because we used a super small model, a short training time and a relatively complex corpus. However, we still should be able to"
   ]
  },
  {
   "cell_type": "code",
   "execution_count": 55,
   "metadata": {},
   "outputs": [
    {
     "data": {
      "text/plain": [
       "[<matplotlib.lines.Line2D at 0x296d9f940>]"
      ]
     },
     "execution_count": 55,
     "metadata": {},
     "output_type": "execute_result"
    },
    {
     "data": {
      "image/png": "[encoded data removed]",
      "text/plain": [
       "<Figure size 640x480 with 1 Axes>"
      ]
     },
     "metadata": {},
     "output_type": "display_data"
    }
   ],
   "source": [
    "import matplotlib.pyplot as plt\n",
    "\n",
    "plt.plot(train_losses)\n",
    "plt.plot(val_losses)"
   ]
  },
  {
   "cell_type": "code",
   "execution_count": 72,
   "metadata": {},
   "outputs": [
    {
     "name": "stdout",
     "output_type": "stream",
     "text": [
      "how can be been the congress\n"
     ]
    }
   ],
   "source": [
    "def generate_text(model, initial_sequence, length, vocab, index_to_word):\n",
    "    model.eval()\n",
    "    generated_sequence = initial_sequence.copy()\n",
    "    \n",
    "    for _ in range(length):\n",
    "        input_sequence = torch.LongTensor([generated_sequence[-5:]]).to('cuda' if torch.cuda.is_available() else 'cpu')\n",
    "        with torch.no_grad():\n",
    "            output = model(input_sequence)\n",
    "        next_word_idx = torch.argmax(output[0, -1]).item()\n",
    "        \n",
    "        generated_sequence.append(next_word_idx)\n",
    "    \n",
    "    generated_sentence = ' '.join([index_to_word[idx] for idx in generated_sequence])\n",
    "    return generated_sentence\n",
    "\n",
    "# Example usage\n",
    "initial_sequence = [vocab.get(word, vocab[\"<UNK>\"]) for word in [\"how\",\"can\"]]\n",
    "generated_sentence = generate_text(model, initial_sequence, 4, vocab, index_to_word)\n",
    "print(generated_sentence)"
   ]
  }
 ],
 "metadata": {
  "kernelspec": {
   "display_name": "Python 3",
   "language": "python",
   "name": "python3"
  },
  "language_info": {
   "codemirror_mode": {
    "name": "ipython",
    "version": 3
   },
   "file_extension": ".py",
   "mimetype": "text/x-python",
   "name": "python",
   "nbconvert_exporter": "python",
   "pygments_lexer": "ipython3",
   "version": "3.10.12"
  },
  "orig_nbformat": 4
 },
 "nbformat": 4,
 "nbformat_minor": 2
}
